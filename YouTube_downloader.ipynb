{
 "cells": [
  {
   "cell_type": "code",
   "execution_count": 11,
   "id": "4c582b61",
   "metadata": {},
   "outputs": [
    {
     "name": "stdout",
     "output_type": "stream",
     "text": [
      "Title:  We Don't Talk Anymore Ringtone | Charlie Puth\n",
      "View:  34808\n",
      "xErj783opLs\n",
      "https://i.ytimg.com/vi/xErj783opLs/sddefault.jpg?sqp=-oaymwEmCIAFEOAD8quKqQMa8AEB-AHOBoAC4AOKAgwIABABGHIgVigoMA8=&rs=AOn4CLCJa8Li53cw95Dk7RiN9NVTmalzcQ\n",
      "Title:  BTS - Life Goes On Marimba Remix Ringtone + (Download) || Unique Ringtones\n",
      "View:  126039\n",
      "8kNKAkfKIM0\n",
      "https://i.ytimg.com/vi/8kNKAkfKIM0/sddefault.jpg\n"
     ]
    }
   ],
   "source": [
    "from pytube import YouTube\n",
    "from sys import argv\n",
    "\n",
    "link = ['https://youtu.be/xErj783opLs','https://youtu.be/8kNKAkfKIM0']\n",
    "for i in link:\n",
    "    yt = YouTube(i)\n",
    "    print(\"Title: \", yt.title)\n",
    "    print(\"View: \", yt.views)\n",
    "    print(yt.video_id)\n",
    "    print(yt.thumbnail_url)\n",
    "    yd = yt.streams.get_highest_resolution()\n",
    "    # ADD FOLDER HERE\n",
    "    yd.download('./YTfolder')"
   ]
  },
  {
   "cell_type": "code",
   "execution_count": null,
   "id": "11dae53e",
   "metadata": {},
   "outputs": [],
   "source": []
  }
 ],
 "metadata": {
  "kernelspec": {
   "display_name": "Python 3 (ipykernel)",
   "language": "python",
   "name": "python3"
  },
  "language_info": {
   "codemirror_mode": {
    "name": "ipython",
    "version": 3
   },
   "file_extension": ".py",
   "mimetype": "text/x-python",
   "name": "python",
   "nbconvert_exporter": "python",
   "pygments_lexer": "ipython3",
   "version": "3.9.13"
  }
 },
 "nbformat": 4,
 "nbformat_minor": 5
}
