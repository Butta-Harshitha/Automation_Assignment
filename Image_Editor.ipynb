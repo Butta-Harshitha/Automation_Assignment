{
 "cells": [
  {
   "cell_type": "code",
   "execution_count": 15,
   "id": "a3bc7bd7",
   "metadata": {},
   "outputs": [],
   "source": [
    "from PIL import Image,ImageEnhance,ImageFilter\n",
    "import os\n",
    "\n",
    "path='./dogs'\n",
    "pathOut='./editedImages'\n",
    "\n",
    "for filename in os.listdir(path):\n",
    "\timg=Image.open(f\"{path}/{filename}\")\n",
    "\tedit=img.filter(ImageFilter.EDGE_ENHANCE)\n",
    "    \n",
    "\tfactor =1.5\n",
    "\tenhancer =ImageEnhance.Contrast(edit)\n",
    "\tedit=enhancer.enhance(factor)\n",
    "\tclean_name=os.path.splitext(filename)[0]\n",
    "\tedit.save(f\"{pathOut}/{clean_name}.jpeg\")"
   ]
  },
  {
   "cell_type": "code",
   "execution_count": null,
   "id": "50e5b19c",
   "metadata": {},
   "outputs": [],
   "source": []
  }
 ],
 "metadata": {
  "kernelspec": {
   "display_name": "Python 3 (ipykernel)",
   "language": "python",
   "name": "python3"
  },
  "language_info": {
   "codemirror_mode": {
    "name": "ipython",
    "version": 3
   },
   "file_extension": ".py",
   "mimetype": "text/x-python",
   "name": "python",
   "nbconvert_exporter": "python",
   "pygments_lexer": "ipython3",
   "version": "3.9.13"
  }
 },
 "nbformat": 4,
 "nbformat_minor": 5
}
